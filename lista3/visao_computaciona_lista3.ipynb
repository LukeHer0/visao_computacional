{
 "cells": [
  {
   "cell_type": "markdown",
   "id": "55f193e0",
   "metadata": {},
   "source": [
    "# Terceira lista de visão computacional\n",
    "# Lucas Heron Santos Anchieta\n",
    "# Ruan Tenório de Melo"
   ]
  },
  {
   "cell_type": "markdown",
   "id": "4bfed609",
   "metadata": {},
   "source": [
    "## Importações"
   ]
  },
  {
   "cell_type": "code",
   "execution_count": 1,
   "id": "5d74138c",
   "metadata": {},
   "outputs": [],
   "source": [
    "import cv2 as cv\n",
    "import numpy as np"
   ]
  },
  {
   "cell_type": "markdown",
   "id": "a948fb9a",
   "metadata": {},
   "source": [
    "## 1. Escolha uma das metodologias que você implementou na segunda lista para gerar correspondências entre um par de imagens. Aplique-a em 5 pares de imagens (com sobreposição) para calcular suas homografias, e aplique-as para gerar panoramas entre os pares de imagens (um panorama por par).\n",
    "## Obs.: nessa questão, não é permitido usar a API de alto nível Stitcher.\n",
    "## Dica: use a função warpPerspective da OpenCV."
   ]
  },
  {
   "cell_type": "markdown",
   "id": "7257b413",
   "metadata": {},
   "source": [
    "## 2. Repita a questão anterior com 5 trios de imagens (com sobreposição 2 a 2), alinhando as imagens no plano da primeira imagem. Repita o mesmo alinhando no plano da segunda imagem, e da terceira imagem. Note que aqui será necessário compor as transformações de homografia em alguns casos, ou calcular inversas."
   ]
  },
  {
   "cell_type": "markdown",
   "id": "04161074",
   "metadata": {},
   "source": [
    "## 3. Considere a imagem soccer.jpg (./img/soccer.jpg) em anexo no Google Classroom. Considere que o campo da imagem tenha as dimensões dadas pela figura (./img/q3_anexo.png)\n",
    "## Gere manualmente correspondências entre a imagem e um mapa 2d com dimensões dadas pela figura. Calcule a homografia resultante e aplique na imagem original. Exiba o resultado. Dica: leia este tutorial (https://medium.com/acmvit/how-to-project-an-image-in-perspective-view-of-a-background-image-opencv-python-d101bdf966bc)"
   ]
  },
  {
   "cell_type": "code",
   "execution_count": 2,
   "id": "56b6c60e",
   "metadata": {},
   "outputs": [],
   "source": [
    "img = cv.imread(\"./img/soccer.jpg\")\n",
    "field = cv.imread(\"./img/q3_anexo.png\")\n",
    "\n",
    "h_field, w_field = field.shape[:2]\n",
    "resized_img = cv.resize(img, (w_field, h_field))\n",
    "\n",
    "positions = []\n",
    "count = 0\n",
    "pts1 = []\n",
    "pts2 = []\n",
    "current_image = None"
   ]
  },
  {
   "cell_type": "code",
   "execution_count": 3,
   "id": "951ecacc",
   "metadata": {},
   "outputs": [],
   "source": [
    "def draw_circle(event, x, y, flags, param):\n",
    "    global positions, count, current_image\n",
    "\n",
    "    if event == cv.EVENT_LBUTTONUP:\n",
    "        if count >= 4:\n",
    "            return\n",
    "        cv.circle(current_image, (x,y), 2, (255, 0, 0), -1)\n",
    "\n",
    "        positions.append((x,y))\n",
    "        \n",
    "        count += 1\n",
    "        if count > 1:\n",
    "            cv.line(current_image, positions[-2], positions[-1], \n",
    "                   (255, 0, 255), 2)"
   ]
  },
  {
   "cell_type": "code",
   "execution_count": 4,
   "id": "3a3c0c8c",
   "metadata": {},
   "outputs": [
    {
     "name": "stderr",
     "output_type": "stream",
     "text": [
      "qt.qpa.plugin: Could not find the Qt platform plugin \"wayland\" in \"/home/heron/Documentos/visao_computacional/env/lib/python3.12/site-packages/cv2/qt/plugins\"\n"
     ]
    },
    {
     "name": "stdout",
     "output_type": "stream",
     "text": [
      "Collected points:\n",
      " [[ 50.  15.]\n",
      " [460.  16.]\n",
      " [459. 280.]\n",
      " [ 50. 282.]]\n"
     ]
    }
   ],
   "source": [
    "current_image = field.copy()\n",
    "positions = []\n",
    "count = 0\n",
    "cv.namedWindow('image')\n",
    "cv.setMouseCallback('image', draw_circle)\n",
    "\n",
    "while(True):\n",
    "    cv.imshow('image', current_image)\n",
    "    k = cv.waitKey(20) & 0xFF\n",
    "    if k == 27:\n",
    "        break\n",
    "cv.destroyAllWindows()\n",
    "\n",
    "pts1 = np.float32(positions)\n",
    "print(\"Collected points:\\n\", pts1)"
   ]
  },
  {
   "cell_type": "code",
   "execution_count": 5,
   "id": "6f9c316b",
   "metadata": {},
   "outputs": [
    {
     "name": "stdout",
     "output_type": "stream",
     "text": [
      "Collected points:\n",
      " [[298.  89.]\n",
      " [469. 216.]\n",
      " [183. 277.]\n",
      " [ 66. 119.]]\n"
     ]
    }
   ],
   "source": [
    "current_image = resized_img.copy()\n",
    "positions = []\n",
    "count = 0\n",
    "cv.namedWindow('image')\n",
    "cv.setMouseCallback('image', draw_circle)\n",
    "\n",
    "while(True):\n",
    "    cv.imshow('image', current_image)\n",
    "    k = cv.waitKey(20) & 0xFF\n",
    "    if k == 27:\n",
    "        break\n",
    "cv.destroyAllWindows()\n",
    "\n",
    "pts2 = np.float32(positions)\n",
    "print(\"Collected points:\\n\", pts2)"
   ]
  },
  {
   "cell_type": "code",
   "execution_count": 6,
   "id": "6920187a",
   "metadata": {},
   "outputs": [
    {
     "name": "stdout",
     "output_type": "stream",
     "text": [
      "Matriz de homografia: \n",
      " [[ 5.68994173e-01  4.65171062e+00 -5.21694093e+02]\n",
      " [-1.36255694e+00  1.89386898e+00  2.56048152e+02]\n",
      " [-2.13210225e-04  3.38095452e-03  1.00000000e+00]]\n"
     ]
    }
   ],
   "source": [
    "h, _ = cv.findHomography(pts2, pts1, cv.RANSAC, 5.0)\n",
    "print(f\"Matriz de homografia: \\n\", h)"
   ]
  },
  {
   "cell_type": "code",
   "execution_count": 7,
   "id": "52c1e66e",
   "metadata": {},
   "outputs": [
    {
     "data": {
      "text/plain": [
       "array([[0, 0, 0, ..., 0, 0, 0],\n",
       "       [0, 0, 0, ..., 0, 0, 0],\n",
       "       [0, 0, 0, ..., 0, 0, 0],\n",
       "       ...,\n",
       "       [0, 0, 0, ..., 0, 0, 0],\n",
       "       [0, 0, 0, ..., 0, 0, 0],\n",
       "       [0, 0, 0, ..., 0, 0, 0]], shape=(309, 516), dtype=uint8)"
      ]
     },
     "execution_count": 7,
     "metadata": {},
     "output_type": "execute_result"
    }
   ],
   "source": [
    "mask_field = np.zeros((h_field, w_field), dtype=np.uint8)\n",
    "cv.fillConvexPoly(mask_field, pts1.astype(int), 255)"
   ]
  },
  {
   "cell_type": "code",
   "execution_count": 8,
   "id": "60dff7d3",
   "metadata": {},
   "outputs": [
    {
     "data": {
      "text/plain": [
       "array([[0, 0, 0, ..., 0, 0, 0],\n",
       "       [0, 0, 0, ..., 0, 0, 0],\n",
       "       [0, 0, 0, ..., 0, 0, 0],\n",
       "       ...,\n",
       "       [0, 0, 0, ..., 0, 0, 0],\n",
       "       [0, 0, 0, ..., 0, 0, 0],\n",
       "       [0, 0, 0, ..., 0, 0, 0]], shape=(309, 516), dtype=uint8)"
      ]
     },
     "execution_count": 8,
     "metadata": {},
     "output_type": "execute_result"
    }
   ],
   "source": [
    "mask_img = np.zeros((h_field, w_field), dtype=np.uint8)\n",
    "cv.fillConvexPoly(mask_img, pts2.astype(int), 255)"
   ]
  },
  {
   "cell_type": "code",
   "execution_count": 9,
   "id": "9e267de1",
   "metadata": {},
   "outputs": [],
   "source": [
    "warped_img = cv.warpPerspective(resized_img, h, (w_field, h_field))\n"
   ]
  },
  {
   "cell_type": "code",
   "execution_count": 10,
   "id": "2123c966",
   "metadata": {},
   "outputs": [],
   "source": [
    "field_bg = cv.bitwise_and(field, field, mask=cv.bitwise_not(mask_field))\n",
    "img_fg = cv.bitwise_and(warped_img, warped_img, mask=mask_field)"
   ]
  },
  {
   "cell_type": "code",
   "execution_count": 11,
   "id": "10adabe4",
   "metadata": {},
   "outputs": [],
   "source": [
    "result = cv.add(field_bg, img_fg)\n",
    "\n",
    "# Mostra o resultado\n",
    "while(True):\n",
    "    cv.imshow('image', result)\n",
    "    k = cv.waitKey(20) & 0xFF\n",
    "    if k == 27:\n",
    "        break\n",
    "cv.destroyAllWindows()"
   ]
  },
  {
   "cell_type": "markdown",
   "id": "c734c285",
   "metadata": {},
   "source": [
    "## 4. Leia o seguinte tutorial de calibração de câmera: https://docs.opencv.org/4.x/dc/dbb/tutorial_py_calibration.html\n",
    "## Você vai precisar de um tabuleiro de xadrez (pode imprimir numa folha A4, e colar num papelão ou emplastificar para a geometria ficar fixa). Meça as dimensões do seu tabuleiro para calibrar a câmera, considerando que o tabuleiro sempre está no plano z = 0, e que o canto inferior esquerdo do tabuleiro é a origem (0, 0, 0). Após calibrar a câmera, vamos incluir um objeto virtual na imagem. Considere a seguinte equação paramétrica do círculo centrado no ponto (1.5W, 1.5H, 0), com raio r = 0.5W e contido no plano z = 0, onde H e W s ̃ao a as medidas da altura e largura do tabuleiro:\n",
    "\n",
    "## p(θ) = (r cos θ + 1.5W, r sen θ + 1.5H, 0).\n",
    "\n",
    "## Se assegure de que o círculo apareça na imagem, de acordo com a posição do xadrez na imagem. Para desenhar o círculo, varie o valor do angulo θ entre 0 e 2π para amostrar alguns pontos, e projete-os na imagem. Repita isso 3 vezes, variando o ângulo entre o vetor normal do tabuleiro e o eixo principal da câmera."
   ]
  }
 ],
 "metadata": {
  "kernelspec": {
   "display_name": "env",
   "language": "python",
   "name": "python3"
  },
  "language_info": {
   "codemirror_mode": {
    "name": "ipython",
    "version": 3
   },
   "file_extension": ".py",
   "mimetype": "text/x-python",
   "name": "python",
   "nbconvert_exporter": "python",
   "pygments_lexer": "ipython3",
   "version": "3.12.3"
  }
 },
 "nbformat": 4,
 "nbformat_minor": 5
}
